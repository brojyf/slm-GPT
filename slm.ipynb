{
 "cells": [
  {
   "cell_type": "markdown",
   "id": "3e0d354d-1936-479c-b973-05eb27728fcf",
   "metadata": {},
   "source": [
    "# 1. Import Libraries"
   ]
  },
  {
   "cell_type": "code",
   "id": "b796a20f-9732-4330-b8e5-31e077a9a096",
   "metadata": {
    "ExecuteTime": {
     "end_time": "2025-04-11T02:39:30.090178Z",
     "start_time": "2025-04-11T02:39:30.087987Z"
    }
   },
   "source": [
    "import math\n",
    "import torch\n",
    "import torch.nn as nn\n",
    "import torch.nn.functional as F\n",
    "from torch.utils.data import Dataset\n",
    "from torch.utils.data import DataLoader\n",
    "from dataclasses import dataclass"
   ],
   "outputs": [],
   "execution_count": 6
  },
  {
   "cell_type": "markdown",
   "id": "efca9e35-8fd5-4427-85c8-6ddd4eeaf758",
   "metadata": {},
   "source": [
    "# 2. Define Parameters"
   ]
  },
  {
   "cell_type": "code",
   "id": "16ccc975-2736-4da3-8a96-869e51398918",
   "metadata": {
    "ExecuteTime": {
     "end_time": "2025-04-11T02:39:32.468445Z",
     "start_time": "2025-04-11T02:39:32.465033Z"
    }
   },
   "source": [
    "@dataclass\n",
    "class GPTConfig:\n",
    "    # Text length\n",
    "    block_size: int = 512\n",
    "\n",
    "    batch_size: int = 12\n",
    "    n_layer: int = 12\n",
    "    n_head: int = 12\n",
    "\n",
    "    # hidden_dim / hidden_size\n",
    "    # -> tie embedding_weight\n",
    "    n_embed: int = 768 \n",
    "    hidden_dim: int = n_embed\n",
    "\n",
    "    dropout: float = 0.1\n",
    "    head_size: int = n_embed // n_head\n",
    "\n",
    "    # Official gpt2 tokenizer\n",
    "    vocab_size: int = 50257"
   ],
   "outputs": [],
   "execution_count": 7
  },
  {
   "cell_type": "markdown",
   "id": "d2076f68-2b55-4afe-a17e-8351b619bf5c",
   "metadata": {},
   "source": [
    "# 3. Define GPT Sturcture"
   ]
  },
  {
   "metadata": {},
   "cell_type": "markdown",
   "source": "### 3.1 Single Head Attention",
   "id": "f3bd7290f3462ba"
  },
  {
   "metadata": {
    "ExecuteTime": {
     "end_time": "2025-04-11T02:56:23.234138Z",
     "start_time": "2025-04-11T02:56:23.228736Z"
    }
   },
   "cell_type": "code",
   "source": [
    "\n",
    "class SingleHeadAttention(nn.Module):\n",
    "    def __init__(self, config):\n",
    "        super().__init__()\n",
    "        self.head_size = config.head_size\n",
    "        self.key = nn.Linear(config.hidden_dim, config.head_size)\n",
    "        self.value = nn.Linear(config.hidden_dim, config.head_size)\n",
    "        self.query = nn.Linear(config.hidden_dim, config.head_size)\n",
    "\n",
    "        # Register attention_mask through register_buffer\n",
    "        # No calc grad -> less ram & faster\n",
    "        # Decoder\n",
    "        self.register_buffer(\n",
    "            \"attention_mask\",\n",
    "            # tril: 下三角\n",
    "            # block_size: 512\n",
    "            torch.tril(\n",
    "                torch.ones(config.block_size, config.block_size)\n",
    "            )\n",
    "        )\n",
    "\n",
    "        self.dropout = nn.Dropout(config.dropout)\n",
    "\n",
    "\n",
    "    def forward(self, x):\n",
    "        batch_size, seq_len, hidden_dim = x.size()\n",
    "        k = self.key(x)\n",
    "        q = self.query(x)\n",
    "        v = self.value(x)\n",
    "\n",
    "        # The last two rows\n",
    "        # @ -> torch.matmul\n",
    "        # 点积\n",
    "        weight = q @ k.transpose(-2, -1)\n",
    "\n",
    "        weight = weight.masked_fill(\n",
    "            self.attention_mask[:seq_len, :seq_len] == 0,\n",
    "            float(\"inf\")  # After softmax -> 0\n",
    "        )\n",
    "\n",
    "        # Divided by d_k(dimension of the key vector) when calculating weight\n",
    "        # Avoid high score, low grad after softmax\n",
    "        weight = weight / math.sqrt(self.head_size())\n",
    "        weight = F.softmax(weight, dim=-1)\n",
    "\n",
    "        # Dropout attention weight\n",
    "        weight = self.dropout(weight)\n",
    "\n",
    "        # Dropout after weight\n",
    "        out = weight @ v\n",
    "\n",
    "        return out"
   ],
   "id": "8621d8fc-b6fa-4e6c-b899-32bb4d3eee8f",
   "outputs": [],
   "execution_count": 10
  },
  {
   "metadata": {},
   "cell_type": "markdown",
   "source": "### 3.2 Multi-head attention",
   "id": "cd5a93e769e201b1"
  },
  {
   "metadata": {
    "ExecuteTime": {
     "end_time": "2025-04-10T16:58:32.382661Z",
     "start_time": "2025-04-10T16:58:32.380674Z"
    }
   },
   "cell_type": "code",
   "outputs": [],
   "execution_count": null,
   "source": [
    "class MultiHeadAttention(nn.Module):\n",
    "    def __init__(self, config):\n",
    "        super().__init__()\n",
    "        self.head = nn.ModuleList(\n",
    "            [SingleHeadAttention(config) for _ in range(config.n_head)]\n",
    "        )\n",
    "\n",
    "\n",
    "\n"
   ],
   "id": "84b8879b-c92b-44c9-8eb1-c0c99a37d1a8"
  },
  {
   "metadata": {
    "ExecuteTime": {
     "end_time": "2025-04-11T02:57:07.228509Z",
     "start_time": "2025-04-11T02:57:07.226385Z"
    }
   },
   "cell_type": "code",
   "source": [
    "# 3. feed forward (MLP)\n",
    "# 4. block\n",
    "# 5. GPT (embedding, positoin, norm, mlp, block)"
   ],
   "id": "9e26c24dedbdcda2",
   "outputs": [],
   "execution_count": 11
  },
  {
   "metadata": {},
   "cell_type": "code",
   "outputs": [],
   "execution_count": null,
   "source": "",
   "id": "565d2ac92943388d"
  }
 ],
 "metadata": {
  "kernelspec": {
   "display_name": "Python 3 (ipykernel)",
   "language": "python",
   "name": "python3"
  },
  "language_info": {
   "codemirror_mode": {
    "name": "ipython",
    "version": 3
   },
   "file_extension": ".py",
   "mimetype": "text/x-python",
   "name": "python",
   "nbconvert_exporter": "python",
   "pygments_lexer": "ipython3",
   "version": "3.12.9"
  }
 },
 "nbformat": 4,
 "nbformat_minor": 5
}
