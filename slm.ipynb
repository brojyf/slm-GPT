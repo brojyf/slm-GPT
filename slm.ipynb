{
 "cells": [
  {
   "cell_type": "markdown",
   "id": "3e0d354d-1936-479c-b973-05eb27728fcf",
   "metadata": {},
   "source": [
    "# 1. Import Libraries"
   ]
  },
  {
   "cell_type": "code",
   "id": "b796a20f-9732-4330-b8e5-31e077a9a096",
   "metadata": {
    "ExecuteTime": {
     "end_time": "2025-04-13T05:05:56.161226Z",
     "start_time": "2025-04-13T05:05:56.159299Z"
    }
   },
   "source": [
    "import torch\n",
    "import torch.nn as nn\n",
    "import torch.nn.functional as F\n",
    "from torch.utils.data import Dataset\n",
    "from torch.utils.data import DataLoader\n",
    "from dataclasses import dataclass\n",
    "\n",
    "import math"
   ],
   "outputs": [],
   "execution_count": 111
  },
  {
   "cell_type": "markdown",
   "id": "efca9e35-8fd5-4427-85c8-6ddd4eeaf758",
   "metadata": {},
   "source": [
    "# 2. Define Parameters"
   ]
  },
  {
   "cell_type": "code",
   "id": "16ccc975-2736-4da3-8a96-869e51398918",
   "metadata": {
    "ExecuteTime": {
     "end_time": "2025-04-13T05:08:48.855198Z",
     "start_time": "2025-04-13T05:08:48.852505Z"
    }
   },
   "source": [
    "@dataclass\n",
    "class GPTConfig:\n",
    "    # Text length\n",
    "    block_size: int = 512\n",
    "\n",
    "    batch_size: int = 12\n",
    "    n_layer: int = 6\n",
    "    n_head: int = 12\n",
    "\n",
    "    # hidden_dim / hidden_size\n",
    "    # -> tie embedding_weight\n",
    "    n_embd: int = 768\n",
    "    hidden_dim: int = n_embd\n",
    "\n",
    "    dropout: float = 0.1\n",
    "    head_size: int = n_embd // n_head\n",
    "\n",
    "    # Official gpt2 tokenizer\n",
    "    vocab_size: int = 50257"
   ],
   "outputs": [],
   "execution_count": 124
  },
  {
   "cell_type": "markdown",
   "id": "d2076f68-2b55-4afe-a17e-8351b619bf5c",
   "metadata": {},
   "source": "# 3. Define GPT Structure"
  },
  {
   "metadata": {},
   "cell_type": "markdown",
   "source": "### 3.1 Single-Head Attention",
   "id": "f3bd7290f3462ba"
  },
  {
   "metadata": {
    "ExecuteTime": {
     "end_time": "2025-04-13T05:10:19.881257Z",
     "start_time": "2025-04-13T05:10:19.876133Z"
    }
   },
   "cell_type": "code",
   "source": [
    "class SingleHeadAttention(nn.Module):\n",
    "    def __init__(self, config):\n",
    "        super().__init__()\n",
    "        self.key = nn.Linear(config.n_embd, config.head_size)\n",
    "        self.value = nn.Linear(config.n_embd, config.head_size)\n",
    "        self.query = nn.Linear(config.n_embd, config.head_size)\n",
    "        self.head_size = config.head_size\n",
    "\n",
    "        # Register attention_mask through register_buffer\n",
    "        # No calc grad -> less ram & faster\n",
    "        # Decoder\n",
    "        self.register_buffer(\n",
    "            \"attention_mask\",\n",
    "            # tril: 下三角\n",
    "            # block_size: 512\n",
    "            torch.tril(\n",
    "                torch.ones(config.block_size, config.block_size)\n",
    "            )\n",
    "        )\n",
    "\n",
    "        self.dropout = nn.Dropout(config.dropout)\n",
    "\n",
    "\n",
    "    def forward(self, x):\n",
    "        # Batch: Group of data\n",
    "        # seq_len: Max tokens\n",
    "        batch_size, seq_len, hidden_dim = x.size()\n",
    "\n",
    "        k = self.key(x)\n",
    "        q = self.query(x)\n",
    "        v = self.value(x)\n",
    "\n",
    "        # The last two rows\n",
    "        # @ -> torch.matmul\n",
    "        # q 点积 k\n",
    "        weight = q @ k.transpose(-2, -1)\n",
    "\n",
    "        weight = weight.masked_fill(\n",
    "            self.attention_mask[:seq_len, :seq_len] == 0,\n",
    "            float(\"-inf\")  # After softmax -> 0\n",
    "        )\n",
    "\n",
    "        # Divided by d_k(dimension of the key vector) when calculating weight\n",
    "        # Avoid high score, low grad after softmax\n",
    "        weight = weight / math.sqrt(self.head_size)\n",
    "        weight = F.softmax(weight, dim=-1)\n",
    "\n",
    "        # Dropout attention weight\n",
    "        weight = self.dropout(weight)\n",
    "\n",
    "        # Dropout after weight\n",
    "        out = weight @ v\n",
    "\n",
    "        return out"
   ],
   "id": "8621d8fc-b6fa-4e6c-b899-32bb4d3eee8f",
   "outputs": [],
   "execution_count": 135
  },
  {
   "metadata": {},
   "cell_type": "markdown",
   "source": [
    "### 3.2 Multi-head Attention\n",
    "Four weights tensor (q, k, v, proj)"
   ],
   "id": "cd5a93e769e201b1"
  },
  {
   "metadata": {
    "ExecuteTime": {
     "end_time": "2025-04-13T05:10:22.481083Z",
     "start_time": "2025-04-13T05:10:22.477775Z"
    }
   },
   "cell_type": "code",
   "source": [
    "class MultiHeadAttention(nn.Module):\n",
    "    def __init__(self, config):\n",
    "        super().__init__()\n",
    "        self.heads = nn.ModuleList(\n",
    "            [SingleHeadAttention(config) for _ in range(config.n_head)]\n",
    "        )\n",
    "        self.proj = nn.Linear(config.n_embd, config.n_embd)\n",
    "        self.dropout = nn.Dropout(config.dropout)\n",
    "\n",
    "    def forward(self, x):\n",
    "        output = torch.cat(\n",
    "            [h(x) for h in self.heads],\n",
    "            dim=-1\n",
    "        )\n",
    "        output = self.proj(output)\n",
    "        output = self.dropout(output)\n",
    "        return output"
   ],
   "id": "84b8879b-c92b-44c9-8eb1-c0c99a37d1a8",
   "outputs": [],
   "execution_count": 136
  },
  {
   "metadata": {},
   "cell_type": "markdown",
   "source": "### 3.3 Feed Forward",
   "id": "703796397b1a9e81"
  },
  {
   "metadata": {
    "ExecuteTime": {
     "end_time": "2025-04-13T05:10:24.975222Z",
     "start_time": "2025-04-13T05:10:24.972826Z"
    }
   },
   "cell_type": "code",
   "source": [
    "class FeedForward(nn.Module):\n",
    "    def __init__(self, config):\n",
    "        super().__init__()\n",
    "        self.net = nn.Sequential(\n",
    "            nn.Linear(config.n_embd, 4 * config.n_embd),  # swiglu -> 8/3\n",
    "            nn.GELU(),  # 激活\n",
    "            nn.Linear(4 * config.n_embd, config.n_embd),  # 降维\n",
    "            nn.Dropout(config.dropout)\n",
    "        )\n",
    "\n",
    "    def forward(self, x):\n",
    "        return self.net(x)"
   ],
   "id": "9e26c24dedbdcda2",
   "outputs": [],
   "execution_count": 137
  },
  {
   "metadata": {},
   "cell_type": "markdown",
   "source": "### 3.4 Block",
   "id": "9155c7c71e33701d"
  },
  {
   "metadata": {
    "ExecuteTime": {
     "end_time": "2025-04-13T05:10:24.980051Z",
     "start_time": "2025-04-13T05:10:24.977968Z"
    }
   },
   "cell_type": "code",
   "source": [
    "class Block(nn.Module):\n",
    "    def __init__(self, config):\n",
    "        super().__init__()\n",
    "        self.att = MultiHeadAttention(config)\n",
    "        self.ffn = FeedForward(config)\n",
    "        self.ln1 = nn.LayerNorm(config.n_embd)\n",
    "        self.ln2 = nn.LayerNorm(config.n_embd)\n",
    "\n",
    "    def forward(self, x):\n",
    "        x = x + self.att(self.ln1(x))\n",
    "        x = x + self.ffn(self.ln2(x))\n",
    "        return x"
   ],
   "id": "565d2ac92943388d",
   "outputs": [],
   "execution_count": 138
  },
  {
   "metadata": {},
   "cell_type": "markdown",
   "source": "### 3.5 GPT (embedding, position, norm, mlp, block)",
   "id": "1d5a30f03b4fffba"
  },
  {
   "metadata": {
    "ExecuteTime": {
     "end_time": "2025-04-13T05:10:27.351778Z",
     "start_time": "2025-04-13T05:10:27.346734Z"
    }
   },
   "cell_type": "code",
   "source": [
    "class GPT(nn.Module):\n",
    "    def __init__(self, config):\n",
    "        super().__init__()\n",
    "\n",
    "        # (embedding, position, norm, mlp, block)\n",
    "        # position embedding: 0, 1, xxx embedding -> rope\n",
    "        # norm: layer norm -> rms norm\n",
    "        # mlp -> swiglu\n",
    "        # mha -> gqa\n",
    "        self.token_embedding_table = nn.Embedding(config.vocab_size, config.n_embd)\n",
    "        self.position_embedding_table = nn.Embedding(config.block_size, config.n_embd)\n",
    "\n",
    "        self.blocks = nn.Sequential(\n",
    "            *[Block(config) for _ in range(config.n_layer)]\n",
    "        )\n",
    "        self.ln_final = nn.LayerNorm(config.n_embd)\n",
    "\n",
    "        # Softmax -> no bias\n",
    "        self.lm_head = nn.Linear(config.n_embd, config.vocab_size, bias=False)\n",
    "\n",
    "        # SLM model will use tie weight to decrease parameters\n",
    "        # Linear: 4d -> 8d ( 8 x 4 )\n",
    "        self.apply(self._init_weights)\n",
    "\n",
    "\n",
    "    def _init_weights(self, module):\n",
    "        if isinstance(module, nn.Linear):\n",
    "\n",
    "            # normal distribution\n",
    "            torch.nn.init.normal_(module.weight, mean=0.0, std=0.02)\n",
    "\n",
    "            if module.bias is not None:\n",
    "                torch.nn.init.zeros_(module.bias)\n",
    "        elif isinstance(module, nn.Embedding):\n",
    "            torch.nn.init.normal_(module.weight, mean=0.0, std=0.02)\n",
    "\n",
    "    def forward(self, idx, targets=None):\n",
    "        # idx: token ids\n",
    "        # target: target token idx\n",
    "        # Same shape\n",
    "        batch, seq_len = idx.size()\n",
    "\n",
    "        # (batch seq_len, n_embed)\n",
    "        token_emb = self.token_embedding_table(idx)\n",
    "\n",
    "        pos_emb = self.position_embedding_table(\n",
    "            # pos_emb and idx on same device\n",
    "            torch.arange(seq_len, device=idx.device)\n",
    "        )\n",
    "\n",
    "        # ? token_embedding + position+embedding\n",
    "        x = token_emb + pos_emb\n",
    "        x = self.blocks(x)\n",
    "        x = self.ln_final(x)\n",
    "\n",
    "        # Shape: (batch, seq_len, vocab_size)\n",
    "        logits = self.lm_head(x)\n",
    "\n",
    "        if targets is None:\n",
    "            loss = None\n",
    "        else:\n",
    "            batch, seq_len, vocab_size = logits.size()\n",
    "            logits = logits.view(batch * seq_len, vocab_size)\n",
    "            targets = targets.view(batch * seq_len)\n",
    "            loss = F.cross_entropy(logits, targets)\n",
    "        return logits, loss\n",
    "\n",
    "\n",
    "    def generate(self, idx, max_new_tokens):\n",
    "        # idx shape (batch, seq_len)\n",
    "        # idx is (B, T) array of indices in the current context\n",
    "        for _ in range(max_new_tokens):\n",
    "            # 如果序列太长，只取最后 block_size 个token\n",
    "            idx_cond = idx if idx.size(1) <= self.block_size else idx[:, -self.block_size:]\n",
    "            # 获取预测\n",
    "            logits, _ = self(idx_cond)\n",
    "            # 只关注最后一个时间步的预测\n",
    "            logits = logits[:, -1, :]  # becomes (B, vocab_size)\n",
    "            # 应用softmax获取概率\n",
    "            probs = F.softmax(logits, dim=-1)\n",
    "            # 采样下一个token\n",
    "            idx_next = torch.multinomial(probs, num_samples=1)  # (B, 1)\n",
    "            # 附加到序列上\n",
    "            idx = torch.cat((idx, idx_next), dim=1)  # (B, T+1)\n",
    "        return idx"
   ],
   "id": "a694fd46f136d86e",
   "outputs": [],
   "execution_count": 139
  },
  {
   "metadata": {},
   "cell_type": "markdown",
   "source": "# 4. Build Input Dataset",
   "id": "7a2eec584276b754"
  },
  {
   "metadata": {
    "ExecuteTime": {
     "end_time": "2025-04-13T05:10:29.837532Z",
     "start_time": "2025-04-13T05:10:29.833773Z"
    }
   },
   "cell_type": "code",
   "source": [
    "class MyDataset(Dataset):\n",
    "    def __init__(self, path, block_size=512):\n",
    "        import tiktoken\n",
    "        self.enc = tiktoken.get_encoding(\"gpt2\")\n",
    "        self.block_size = block_size  # pos max length\n",
    "\n",
    "        # Special symbol to divide different text\n",
    "        # <|endoftext|> -> 50526\n",
    "        self.eos_token = self.enc.encode(\n",
    "            \"<|endoftext|>\",\n",
    "            allowed_special={\"<|endoftext|>\"}\n",
    "        )[0]\n",
    "\n",
    "        # Encode -> train\n",
    "        import json\n",
    "\n",
    "        self.encoded_data = []\n",
    "        self.max_lines = 1000\n",
    "        raw_data = []\n",
    "        with open(path, 'r') as f:\n",
    "            for i, line in enumerate(f):\n",
    "                if i >= self.max_lines:\n",
    "                    break\n",
    "                try:\n",
    "                    text = json.loads(line.strip())['text']\n",
    "                    raw_data.append(text)\n",
    "                except json.JSONDecodeError:\n",
    "                    continue\n",
    "                except Exception as e:\n",
    "                    continue\n",
    "\n",
    "        full_encoded = []\n",
    "        for text in raw_data:\n",
    "            encoded_text = self.enc.encode(text)\n",
    "            full_encoded.extend(encoded_text + [self.eos_token])\n",
    "\n",
    "        # 将长文本分割成训练样本\n",
    "        for i in range(0, len(full_encoded), self.block_size):\n",
    "            # 多取一个 Token 作为目标\n",
    "            chunk = full_encoded[i:i+self.block_size+1]\n",
    "            # 如果长度不够，用 eos_token 填充\n",
    "            if len(chunk) < self.block_size + 1:\n",
    "                chunk = chunk + [self.eos_token] * (self.block_size + 1 - len(chunk))\n",
    "            self.encoded_data.append(chunk)\n",
    "\n",
    "\n",
    "    def __len__(self):\n",
    "        return len(self.encoded_data)\n",
    "\n",
    "    def __getitem__(self, idx):\n",
    "        chunk = self.encoded_data[idx]\n",
    "        x = torch.tensor(chunk[:-1], dtype=torch.long)\n",
    "        y = torch.tensor(chunk[1:], dtype=torch.long)\n",
    "        return x, y\n",
    "\n",
    "    def encode(self, text):\n",
    "        return self.enc.encode(text)\n",
    "\n",
    "    def decode(self, ids):\n",
    "        return self.enc.decode(ids)"
   ],
   "id": "443ffadb29ab038c",
   "outputs": [],
   "execution_count": 140
  },
  {
   "metadata": {
    "ExecuteTime": {
     "end_time": "2025-04-13T05:10:32.395005Z",
     "start_time": "2025-04-13T05:10:32.240406Z"
    }
   },
   "cell_type": "code",
   "source": [
    "train_dataset = MyDataset('data.jsonl')\n",
    "\n",
    "train_dataset, val_dataset = torch.utils.data.random_split(train_dataset, [0.9, 0.1])\n",
    "\n",
    "train_loader = DataLoader(train_dataset, batch_size=12, shuffle=True)\n",
    "val_loader = DataLoader(val_dataset, batch_size=12, shuffle=False)"
   ],
   "id": "3fee53aa96247ae5",
   "outputs": [],
   "execution_count": 141
  },
  {
   "metadata": {},
   "cell_type": "markdown",
   "source": "# 5. Run Related Functions",
   "id": "4dbcf51a3bfa90c"
  },
  {
   "metadata": {
    "ExecuteTime": {
     "end_time": "2025-04-13T05:10:34.754872Z",
     "start_time": "2025-04-13T05:10:34.752597Z"
    }
   },
   "cell_type": "code",
   "source": [
    "if torch.backends.mps.is_available():\n",
    "    device = torch.device(\"mps\")\n",
    "elif torch.cuda.is_available():\n",
    "    device = torch.device(\"cuda\")\n",
    "else:\n",
    "    device = torch.device(\"cpu\")\n",
    "print(\"Using {} device\".format(device))"
   ],
   "id": "103256f479671587",
   "outputs": [
    {
     "name": "stdout",
     "output_type": "stream",
     "text": [
      "Using mps device\n"
     ]
    }
   ],
   "execution_count": 142
  },
  {
   "metadata": {
    "ExecuteTime": {
     "end_time": "2025-04-13T05:10:38.711193Z",
     "start_time": "2025-04-13T05:10:37.159797Z"
    }
   },
   "cell_type": "code",
   "source": [
    "model = GPT(GPTConfig())\n",
    "model = model.to(device)\n",
    "\n",
    "# Print parameter\n",
    "total_params = sum(p.numel() for p in model.parameters())\n",
    "print(f\"Total parameters: {total_params / 1e6} M\")\n",
    "\n",
    "optimizer = torch.optim.AdamW(model.parameters(), lr=3e-4)\n",
    "\n",
    "# Cos LR\n",
    "scheduler = torch.optim.lr_scheduler.CosineAnnealingLR(optimizer, T_max=1000)"
   ],
   "id": "df65925cafd2f55d",
   "outputs": [
    {
     "name": "stdout",
     "output_type": "stream",
     "text": [
      "Total parameters: 120.116736 M\n"
     ]
    }
   ],
   "execution_count": 143
  },
  {
   "metadata": {},
   "cell_type": "markdown",
   "source": "### Training Function",
   "id": "3d4ab5a2e5e863e9"
  },
  {
   "metadata": {
    "jupyter": {
     "is_executing": true
    },
    "ExecuteTime": {
     "start_time": "2025-04-13T05:10:43.654419Z"
    }
   },
   "cell_type": "code",
   "source": [
    "# 训练循环\n",
    "def train(model, optimizer, scheduler, train_loader, val_loader, device):\n",
    "    model.train()\n",
    "    total_loss = 0\n",
    "    for batch_idx, (x, y) in enumerate(train_loader):\n",
    "        # 将数据移到设备上\n",
    "        x, y = x.to(device), y.to(device)\n",
    "\n",
    "        # 前向传播\n",
    "        logits, loss = model(x, targets=y)\n",
    "\n",
    "        # 反向传播\n",
    "        optimizer.zero_grad()\n",
    "        loss.backward()\n",
    "        optimizer.step()\n",
    "        # 调整学习率\n",
    "        scheduler.step()\n",
    "\n",
    "        total_loss += loss.item()\n",
    "\n",
    "        if batch_idx % 100 == 0:\n",
    "            print(f'Epoch: {epoch}, Batch: {batch_idx}, Loss: {loss.item():.4f}')\n",
    "    return total_loss\n",
    "\n",
    "def eval(model, val_loader, device):\n",
    "    # 验证\n",
    "    model.eval()\n",
    "    val_loss = 0\n",
    "    with torch.no_grad():\n",
    "        for x, y in val_loader:\n",
    "            x, y = x.to(device), y.to(device)\n",
    "            logits, loss = model(x, targets=y)\n",
    "            val_loss += loss.item()\n",
    "    return val_loss\n",
    "\n",
    "\n",
    "for epoch in range(2):\n",
    "    train_loss = train(model, optimizer, scheduler, train_loader, val_loader, device)\n",
    "    val_loss = eval(model, val_loader, device)\n",
    "    print(f'Epoch: {epoch}, Train Loss: {train_loss/len(train_loader):.4f}, Val Loss: {val_loss/len(val_loader):.4f}')\n",
    "\n",
    "    # 保存模型\n",
    "    avg_val_loss = val_loss / len(val_loader)\n",
    "    checkpoint = {\n",
    "        'epoch': epoch,\n",
    "        'model_state_dict': model.state_dict(),\n",
    "        'optimizer_state_dict': optimizer.state_dict(),\n",
    "        'scheduler_state_dict': scheduler.state_dict(),\n",
    "        'val_loss': avg_val_loss,\n",
    "    }\n",
    "    # 保存每个epoch的模型\n",
    "    torch.save(checkpoint, f'checkpoints/model_epoch_{epoch}.pt')\n"
   ],
   "id": "6691ab71a455c6ab",
   "outputs": [
    {
     "name": "stdout",
     "output_type": "stream",
     "text": [
      "Epoch: 0, Batch: 0, Loss: 10.9351\n"
     ]
    }
   ],
   "execution_count": null
  },
  {
   "metadata": {},
   "cell_type": "code",
   "outputs": [],
   "execution_count": null,
   "source": "",
   "id": "49374e7aa1709d1f"
  }
 ],
 "metadata": {
  "kernelspec": {
   "display_name": "Python 3 (ipykernel)",
   "language": "python",
   "name": "python3"
  },
  "language_info": {
   "codemirror_mode": {
    "name": "ipython",
    "version": 3
   },
   "file_extension": ".py",
   "mimetype": "text/x-python",
   "name": "python",
   "nbconvert_exporter": "python",
   "pygments_lexer": "ipython3",
   "version": "3.12.9"
  }
 },
 "nbformat": 4,
 "nbformat_minor": 5
}
