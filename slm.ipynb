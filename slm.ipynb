{
 "cells": [
  {
   "cell_type": "markdown",
   "id": "3e0d354d-1936-479c-b973-05eb27728fcf",
   "metadata": {},
   "source": [
    "# 1. Import Libraries"
   ]
  },
  {
   "cell_type": "code",
   "execution_count": 2,
   "id": "b796a20f-9732-4330-b8e5-31e077a9a096",
   "metadata": {},
   "outputs": [],
   "source": [
    "import torch\n",
    "import torch.nn as nn\n",
    "import torch.nn.functional as f\n",
    "from torch.utils.data import Dataset\n",
    "from torch.utils.data import DataLoader\n",
    "from dataclasses import dataclass"
   ]
  },
  {
   "cell_type": "markdown",
   "id": "efca9e35-8fd5-4427-85c8-6ddd4eeaf758",
   "metadata": {},
   "source": [
    "# 2. Define Parameters"
   ]
  },
  {
   "cell_type": "code",
   "execution_count": 7,
   "id": "16ccc975-2736-4da3-8a96-869e51398918",
   "metadata": {},
   "outputs": [],
   "source": [
    "@dataclass\n",
    "class GPTConfig:\n",
    "    block_size: int = 512\n",
    "    batch_size: int = 12\n",
    "    n_layer: int = 12\n",
    "    n_head: int = 12\n",
    "\n",
    "    # hidden_dim / hidden_size\n",
    "    # -> tie_embedding_weight\n",
    "    n_embed: int = 768 \n",
    "\n",
    "    dropout: float = 0.1\n",
    "    head_size: int = n_embed // n_head\n",
    "\n",
    "    # Official gpt2 tokenizer\n",
    "    vocab_size: int = 50257"
   ]
  },
  {
   "cell_type": "markdown",
   "id": "d2076f68-2b55-4afe-a17e-8351b619bf5c",
   "metadata": {},
   "source": [
    "# 3. Define GPT Sturcture"
   ]
  },
  {
   "cell_type": "code",
   "execution_count": 8,
   "id": "8621d8fc-b6fa-4e6c-b899-32bb4d3eee8f",
   "metadata": {},
   "outputs": [],
   "source": [
    "# 1. single-head attention\n",
    "# 2. multi-head attention\n",
    "# 3. feed forward (MLP)\n",
    "# 4. block\n",
    "# 5. GPT (embedding, positoin, norm, mlp, block)"
   ]
  },
  {
   "cell_type": "code",
   "execution_count": null,
   "id": "84b8879b-c92b-44c9-8eb1-c0c99a37d1a8",
   "metadata": {},
   "outputs": [],
   "source": []
  }
 ],
 "metadata": {
  "kernelspec": {
   "display_name": "Python 3 (ipykernel)",
   "language": "python",
   "name": "python3"
  },
  "language_info": {
   "codemirror_mode": {
    "name": "ipython",
    "version": 3
   },
   "file_extension": ".py",
   "mimetype": "text/x-python",
   "name": "python",
   "nbconvert_exporter": "python",
   "pygments_lexer": "ipython3",
   "version": "3.12.9"
  }
 },
 "nbformat": 4,
 "nbformat_minor": 5
}
