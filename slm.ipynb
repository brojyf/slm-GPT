{
 "cells": [
  {
   "cell_type": "markdown",
   "id": "3e0d354d-1936-479c-b973-05eb27728fcf",
   "metadata": {},
   "source": [
    "# 1. Import Libraries"
   ]
  },
  {
   "cell_type": "code",
   "id": "b796a20f-9732-4330-b8e5-31e077a9a096",
   "metadata": {
    "ExecuteTime": {
     "end_time": "2025-04-11T02:39:30.090178Z",
     "start_time": "2025-04-11T02:39:30.087987Z"
    }
   },
   "source": [
    "import math\n",
    "import torch\n",
    "import torch.nn as nn\n",
    "import torch.nn.functional as F\n",
    "from pygments.lexers.bibtex import BibTeXLexer\n",
    "from torch.utils.data import Dataset\n",
    "from torch.utils.data import DataLoader\n",
    "from dataclasses import dataclass"
   ],
   "outputs": [],
   "execution_count": 6
  },
  {
   "cell_type": "markdown",
   "id": "efca9e35-8fd5-4427-85c8-6ddd4eeaf758",
   "metadata": {},
   "source": [
    "# 2. Define Parameters"
   ]
  },
  {
   "cell_type": "code",
   "id": "16ccc975-2736-4da3-8a96-869e51398918",
   "metadata": {
    "ExecuteTime": {
     "end_time": "2025-04-11T02:39:32.468445Z",
     "start_time": "2025-04-11T02:39:32.465033Z"
    }
   },
   "source": [
    "@dataclass\n",
    "class GPTConfig:\n",
    "    # Text length\n",
    "    block_size: int = 512\n",
    "\n",
    "    batch_size: int = 12\n",
    "    n_layer: int = 12\n",
    "    n_head: int = 12\n",
    "\n",
    "    # hidden_dim / hidden_size\n",
    "    # -> tie embedding_weight\n",
    "    n_embed: int = 768 \n",
    "    hidden_dim: int = n_embed\n",
    "\n",
    "    dropout: float = 0.1\n",
    "    head_size: int = n_embed // n_head\n",
    "\n",
    "    # Official gpt2 tokenizer\n",
    "    vocab_size: int = 50257"
   ],
   "outputs": [],
   "execution_count": 7
  },
  {
   "cell_type": "markdown",
   "id": "d2076f68-2b55-4afe-a17e-8351b619bf5c",
   "metadata": {},
   "source": [
    "# 3. Define GPT Sturcture"
   ]
  },
  {
   "metadata": {},
   "cell_type": "markdown",
   "source": "### 3.1 Single-Head Attention",
   "id": "f3bd7290f3462ba"
  },
  {
   "metadata": {
    "ExecuteTime": {
     "end_time": "2025-04-11T02:56:23.234138Z",
     "start_time": "2025-04-11T02:56:23.228736Z"
    }
   },
   "cell_type": "code",
   "source": [
    "\n",
    "class SingleHeadAttention(nn.Module):\n",
    "    def __init__(self, config):\n",
    "        super().__init__()\n",
    "        self.head_size = config.head_size\n",
    "        self.key = nn.Linear(config.hidden_dim, config.head_size)\n",
    "        self.value = nn.Linear(config.hidden_dim, config.head_size)\n",
    "        self.query = nn.Linear(config.hidden_dim, config.head_size)\n",
    "\n",
    "        # Register attention_mask through register_buffer\n",
    "        # No calc grad -> less ram & faster\n",
    "        # Decoder\n",
    "        self.register_buffer(\n",
    "            \"attention_mask\",\n",
    "            # tril: 下三角\n",
    "            # block_size: 512\n",
    "            torch.tril(\n",
    "                torch.ones(config.block_size, config.block_size)\n",
    "            )\n",
    "        )\n",
    "\n",
    "        self.dropout = nn.Dropout(config.dropout)\n",
    "\n",
    "\n",
    "    def forward(self, x):\n",
    "        # Batch: Group of data\n",
    "        # seq_len: Max tokens\n",
    "        batch_size, seq_len, hidden_dim = x.size()\n",
    "\n",
    "        k = self.key(x)\n",
    "        q = self.query(x)\n",
    "        v = self.value(x)\n",
    "\n",
    "        # The last two rows\n",
    "        # @ -> torch.matmul\n",
    "        # q 点积 k\n",
    "        weight = q @ k.transpose(-2, -1)\n",
    "\n",
    "        weight = weight.masked_fill(\n",
    "            self.attention_mask[:seq_len, :seq_len] == 0,\n",
    "            float(\"inf\")  # After softmax -> 0\n",
    "        )\n",
    "\n",
    "        # Divided by d_k(dimension of the key vector) when calculating weight\n",
    "        # Avoid high score, low grad after softmax\n",
    "        weight = weight / math.sqrt(self.head_size())\n",
    "        weight = F.softmax(weight, dim=-1)\n",
    "\n",
    "        # Dropout attention weight\n",
    "        weight = self.dropout(weight)\n",
    "\n",
    "        # Dropout after weight\n",
    "        out = weight @ v\n",
    "\n",
    "        return out"
   ],
   "id": "8621d8fc-b6fa-4e6c-b899-32bb4d3eee8f",
   "outputs": [],
   "execution_count": 10
  },
  {
   "metadata": {},
   "cell_type": "markdown",
   "source": [
    "### 3.2 Multi-head Attention\n",
    "Four weights tensor (q, k, v, proj)"
   ],
   "id": "cd5a93e769e201b1"
  },
  {
   "metadata": {
    "ExecuteTime": {
     "end_time": "2025-04-11T05:21:24.818002Z",
     "start_time": "2025-04-11T05:21:24.814263Z"
    }
   },
   "cell_type": "code",
   "source": [
    "class MultiHeadAttention(nn.Module):\n",
    "    def __init__(self, config):\n",
    "        super().__init__()\n",
    "        self.heads = nn.ModuleList(\n",
    "            [SingleHeadAttention(config) for _ in range(config.n_head)]\n",
    "        )\n",
    "        self.proj = nn.Linear(config.hidden_dim, config.hidden_dim)\n",
    "        self.dropout = nn.Dropout(config.dropout)\n",
    "\n",
    "    def forward(self, x):\n",
    "        output = torch.cat(\n",
    "            [h(x) for h in self.heads],\n",
    "            dim=-1\n",
    "        )\n",
    "        output = self.proj(output)\n",
    "        output = self.dropout(output)\n",
    "        return output"
   ],
   "id": "84b8879b-c92b-44c9-8eb1-c0c99a37d1a8",
   "outputs": [],
   "execution_count": 12
  },
  {
   "metadata": {},
   "cell_type": "markdown",
   "source": "### 3.3 Feed Forward",
   "id": "703796397b1a9e81"
  },
  {
   "metadata": {
    "ExecuteTime": {
     "end_time": "2025-04-12T01:20:48.648369Z",
     "start_time": "2025-04-12T01:20:48.644778Z"
    }
   },
   "cell_type": "code",
   "source": [
    "class FeedForward(nn.Module):\n",
    "    def __init__(self, config):\n",
    "        super().__init__()\n",
    "        self.net = nn.Sequential(\n",
    "            nn.Linear(config.hidden_dim, 4 * config.hidden_dim),  # swiglu  -> 8/3\n",
    "            nn.GELU(),  # 激活\n",
    "            nn.Linear(4 * config.hidden_dim, config.hidden_dim),  # 降维\n",
    "            nn.Dropout(config.dropout)\n",
    "        )\n",
    "\n",
    "    def forward(self, x):\n",
    "        return self.net(x)"
   ],
   "id": "9e26c24dedbdcda2",
   "outputs": [],
   "execution_count": 19
  },
  {
   "metadata": {},
   "cell_type": "markdown",
   "source": "### 3.4 Block",
   "id": "9155c7c71e33701d"
  },
  {
   "metadata": {
    "ExecuteTime": {
     "end_time": "2025-04-12T01:21:04.307412Z",
     "start_time": "2025-04-12T01:21:04.303591Z"
    }
   },
   "cell_type": "code",
   "source": [
    "class Block(nn.Module):\n",
    "    def __init__(self, config):\n",
    "        super().__init__()\n",
    "        self.att = MultiHeadAttention(config)\n",
    "        self.ffn = FeedForward(config)\n",
    "        self.ln1 = nn.LayerNorm(config.hidden_dim)\n",
    "        self.ln2 = nn.LayerNorm(config.hidden_dim)\n",
    "\n",
    "    def forward(self, x):\n",
    "        x = x + self.att(self.ln1(x))\n",
    "        x = x + self.ffn(self.ln2(x))\n",
    "        return x"
   ],
   "id": "565d2ac92943388d",
   "outputs": [],
   "execution_count": 21
  },
  {
   "metadata": {},
   "cell_type": "markdown",
   "source": "### 3.4 GPT (embedding, position, norm, mlp, block)",
   "id": "1d5a30f03b4fffba"
  },
  {
   "metadata": {
    "ExecuteTime": {
     "end_time": "2025-04-12T01:46:57.762483Z",
     "start_time": "2025-04-12T01:46:57.757764Z"
    }
   },
   "cell_type": "code",
   "source": [
    "class GPT(nn.Module):\n",
    "    def __init__(self, config):\n",
    "        super().__init__()\n",
    "\n",
    "        # (embedding, position, norm, mlp, block)\n",
    "        # position embedding: 0, 1, xxx embedding -> rope\n",
    "        # norm: layer norm -> rms norm\n",
    "        # mlp -> swiglu\n",
    "        # mha -> gqa\n",
    "        self.token_embedding = nn.Embedding(config.vocab_size, config.n_embed)\n",
    "        self.position_embedding = nn.Embedding(config.block_size, config.block_size)\n",
    "        self.blocks = nn.Sequential(\n",
    "            *[Block(config) for _ in range(config.n_layer)]\n",
    "        )\n",
    "        self.ln_final = nn.LayerNorm(config.n_embed)\n",
    "\n",
    "        # Softmax -> no bias\n",
    "        self.lm_head = nn.Linear(config.n_embed, config.voca_size, bias=False)\n",
    "\n",
    "        # SLM model will use tie weight to decrease parameters\n",
    "        # Linear: 4d -> 8d ( 8 x 4 )\n",
    "        self.token_embedding_table.weight = self.lm_head.weight\n",
    "\n",
    "    def _init_weights(self, module):\n",
    "        if isinstance(module, nn.Linear):\n",
    "\n",
    "            # normal distribution\n",
    "            torch.nn.init.normal_(module.weight, mean=0, std=0.02)\n",
    "\n",
    "            if module.bias is not None:\n",
    "                torch.nn.init.zeros_(module.bias)\n",
    "        elif isinstance(module, nn.Embedding):\n",
    "            torch.nn.init.normal_(module.weight, mean=0, std=0.02)\n",
    "\n",
    "    def forward(self, idx, targets=None):\n",
    "        # idx: token ids\n",
    "        # target: target token idx\n",
    "        # Same shape\n",
    "        batch, seq_len = idx.size()\n",
    "\n",
    "        # (batch seq_len, n_embed)\n",
    "        token_emb = self.token_embedding_table(idx)\n",
    "\n",
    "        pos_emb = self.position_embedding_table(\n",
    "            # pos_emb and idx on same device\n",
    "            torch.arrange(seq_len, device=idx.device)\n",
    "        )\n",
    "\n",
    "        # ? token_embedding + position+embedding\n",
    "        x = token_emb + pos_emb\n",
    "        x = self.blocks(x)\n",
    "        x = self.ln_final(x)\n",
    "\n",
    "        # Shape: (batch, seq_len, vocab_size)\n",
    "        logits = self.lm_head(x)\n",
    "\n",
    "        if targets is None:\n",
    "            loss = None\n",
    "        else:\n",
    "            "
   ],
   "id": "a694fd46f136d86e",
   "outputs": [],
   "execution_count": 27
  },
  {
   "metadata": {},
   "cell_type": "markdown",
   "source": "# 4. Build Input Dataset",
   "id": "7a2eec584276b754"
  },
  {
   "metadata": {},
   "cell_type": "code",
   "outputs": [],
   "execution_count": null,
   "source": "",
   "id": "443ffadb29ab038c"
  }
 ],
 "metadata": {
  "kernelspec": {
   "display_name": "Python 3 (ipykernel)",
   "language": "python",
   "name": "python3"
  },
  "language_info": {
   "codemirror_mode": {
    "name": "ipython",
    "version": 3
   },
   "file_extension": ".py",
   "mimetype": "text/x-python",
   "name": "python",
   "nbconvert_exporter": "python",
   "pygments_lexer": "ipython3",
   "version": "3.12.9"
  }
 },
 "nbformat": 4,
 "nbformat_minor": 5
}
