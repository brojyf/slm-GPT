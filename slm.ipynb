{
 "cells": [
  {
   "cell_type": "markdown",
   "id": "3e0d354d-1936-479c-b973-05eb27728fcf",
   "metadata": {},
   "source": [
    "# 1. Import Libraries"
   ]
  },
  {
   "cell_type": "code",
   "id": "b796a20f-9732-4330-b8e5-31e077a9a096",
   "metadata": {
    "ExecuteTime": {
     "end_time": "2025-04-13T05:35:49.522258Z",
     "start_time": "2025-04-13T05:35:49.518972Z"
    }
   },
   "source": [
    "import torch\n",
    "import torch.nn as nn\n",
    "import torch.nn.functional as F\n",
    "from torch.utils.data import Dataset\n",
    "from torch.utils.data import DataLoader\n",
    "from dataclasses import dataclass\n",
    "\n",
    "import math"
   ],
   "outputs": [],
   "execution_count": 16
  },
  {
   "cell_type": "markdown",
   "id": "efca9e35-8fd5-4427-85c8-6ddd4eeaf758",
   "metadata": {},
   "source": [
    "# 2. Define Parameters"
   ]
  },
  {
   "cell_type": "code",
   "id": "16ccc975-2736-4da3-8a96-869e51398918",
   "metadata": {
    "ExecuteTime": {
     "end_time": "2025-04-13T05:35:57.198099Z",
     "start_time": "2025-04-13T05:35:57.195748Z"
    }
   },
   "source": [
    "@dataclass\n",
    "class GPTConfig:\n",
    "    # Text length\n",
    "    block_size: int = 512\n",
    "\n",
    "    batch_size: int = 12\n",
    "    n_layer: int = 12\n",
    "    n_head: int = 12\n",
    "\n",
    "    # hidden_dim / hidden_size\n",
    "    # -> tie embedding_weight\n",
    "    n_embd: int = 768\n",
    "    hidden_dim: int = n_embd\n",
    "\n",
    "    dropout: float = 0.1\n",
    "    head_size: int = n_embd // n_head\n",
    "\n",
    "    # Official gpt2 tokenizer\n",
    "    vocab_size: int = 50257"
   ],
   "outputs": [],
   "execution_count": 17
  },
  {
   "cell_type": "markdown",
   "id": "d2076f68-2b55-4afe-a17e-8351b619bf5c",
   "metadata": {},
   "source": "# 3. Define GPT Structure"
  },
  {
   "metadata": {},
   "cell_type": "markdown",
   "source": "### 3.1 Single-Head Attention",
   "id": "f3bd7290f3462ba"
  },
  {
   "metadata": {
    "ExecuteTime": {
     "end_time": "2025-04-13T05:35:57.204001Z",
     "start_time": "2025-04-13T05:35:57.201151Z"
    }
   },
   "cell_type": "code",
   "source": [
    "class SingleHeadAttention(nn.Module):\n",
    "    def __init__(self, config):\n",
    "        super().__init__()\n",
    "        self.key = nn.Linear(config.n_embd, config.head_size)\n",
    "        self.value = nn.Linear(config.n_embd, config.head_size)\n",
    "        self.query = nn.Linear(config.n_embd, config.head_size)\n",
    "        self.head_size = config.head_size\n",
    "\n",
    "        # Register attention_mask through register_buffer\n",
    "        # No calc grad -> less ram & faster\n",
    "        # Decoder\n",
    "        self.register_buffer(\n",
    "            \"attention_mask\",\n",
    "            # tril: 下三角\n",
    "            # block_size: 512\n",
    "            torch.tril(\n",
    "                torch.ones(config.block_size, config.block_size)\n",
    "            )\n",
    "        )\n",
    "\n",
    "        self.dropout = nn.Dropout(config.dropout)\n",
    "\n",
    "\n",
    "    def forward(self, x):\n",
    "        # Batch: Group of data\n",
    "        # seq_len: Max tokens\n",
    "        batch_size, seq_len, hidden_dim = x.size()\n",
    "\n",
    "        k = self.key(x)\n",
    "        q = self.query(x)\n",
    "        v = self.value(x)\n",
    "\n",
    "        # The last two rows\n",
    "        # @ -> torch.matmul\n",
    "        # q 点积 k\n",
    "        weight = q @ k.transpose(-2, -1)\n",
    "\n",
    "        weight = weight.masked_fill(\n",
    "            self.attention_mask[:seq_len, :seq_len] == 0,\n",
    "            float(\"-inf\")  # After softmax -> 0\n",
    "        )\n",
    "\n",
    "        # Divided by d_k(dimension of the key vector) when calculating weight\n",
    "        # Avoid high score, low grad after softmax\n",
    "        weight = weight / math.sqrt(self.head_size)\n",
    "        weight = F.softmax(weight, dim=-1)\n",
    "\n",
    "        # Dropout attention weight\n",
    "        weight = self.dropout(weight)\n",
    "\n",
    "        # Dropout after weight\n",
    "        out = weight @ v\n",
    "\n",
    "        return out"
   ],
   "id": "8621d8fc-b6fa-4e6c-b899-32bb4d3eee8f",
   "outputs": [],
   "execution_count": 18
  },
  {
   "metadata": {},
   "cell_type": "markdown",
   "source": [
    "### 3.2 Multi-head Attention\n",
    "Four weights tensor (q, k, v, proj)"
   ],
   "id": "cd5a93e769e201b1"
  },
  {
   "metadata": {
    "ExecuteTime": {
     "end_time": "2025-04-13T05:36:04.729265Z",
     "start_time": "2025-04-13T05:36:04.726615Z"
    }
   },
   "cell_type": "code",
   "source": [
    "class MultiHeadAttention(nn.Module):\n",
    "    def __init__(self, config):\n",
    "        super().__init__()\n",
    "        self.heads = nn.ModuleList(\n",
    "            [SingleHeadAttention(config) for _ in range(config.n_head)]\n",
    "        )\n",
    "        self.proj = nn.Linear(config.n_embd, config.n_embd)\n",
    "        self.dropout = nn.Dropout(config.dropout)\n",
    "\n",
    "    def forward(self, x):\n",
    "        output = torch.cat(\n",
    "            [h(x) for h in self.heads],\n",
    "            dim=-1\n",
    "        )\n",
    "        output = self.proj(output)\n",
    "        output = self.dropout(output)\n",
    "        return output"
   ],
   "id": "84b8879b-c92b-44c9-8eb1-c0c99a37d1a8",
   "outputs": [],
   "execution_count": 19
  },
  {
   "metadata": {},
   "cell_type": "markdown",
   "source": "### 3.3 Feed Forward",
   "id": "703796397b1a9e81"
  },
  {
   "metadata": {
    "ExecuteTime": {
     "end_time": "2025-04-13T05:36:11.960778Z",
     "start_time": "2025-04-13T05:36:11.958446Z"
    }
   },
   "cell_type": "code",
   "source": [
    "class FeedForward(nn.Module):\n",
    "    def __init__(self, config):\n",
    "        super().__init__()\n",
    "        self.net = nn.Sequential(\n",
    "            nn.Linear(config.n_embd, 4 * config.n_embd),  # swiglu -> 8/3\n",
    "            nn.GELU(),  # 激活\n",
    "            nn.Linear(4 * config.n_embd, config.n_embd),  # 降维\n",
    "            nn.Dropout(config.dropout)\n",
    "        )\n",
    "\n",
    "    def forward(self, x):\n",
    "        return self.net(x)"
   ],
   "id": "9e26c24dedbdcda2",
   "outputs": [],
   "execution_count": 20
  },
  {
   "metadata": {},
   "cell_type": "markdown",
   "source": "### 3.4 Block",
   "id": "9155c7c71e33701d"
  },
  {
   "metadata": {
    "ExecuteTime": {
     "end_time": "2025-04-13T05:36:18.966847Z",
     "start_time": "2025-04-13T05:36:18.964530Z"
    }
   },
   "cell_type": "code",
   "source": [
    "class Block(nn.Module):\n",
    "    def __init__(self, config):\n",
    "        super().__init__()\n",
    "        self.att = MultiHeadAttention(config)\n",
    "        self.ffn = FeedForward(config)\n",
    "        self.ln1 = nn.LayerNorm(config.n_embd)\n",
    "        self.ln2 = nn.LayerNorm(config.n_embd)\n",
    "\n",
    "    def forward(self, x):\n",
    "        x = x + self.att(self.ln1(x))\n",
    "        x = x + self.ffn(self.ln2(x))\n",
    "        return x"
   ],
   "id": "565d2ac92943388d",
   "outputs": [],
   "execution_count": 21
  },
  {
   "metadata": {},
   "cell_type": "markdown",
   "source": "### 3.5 GPT (embedding, position, norm, mlp, block)",
   "id": "1d5a30f03b4fffba"
  },
  {
   "metadata": {
    "ExecuteTime": {
     "end_time": "2025-04-13T17:30:43.432728Z",
     "start_time": "2025-04-13T17:30:43.424413Z"
    }
   },
   "cell_type": "code",
   "source": [
    "class GPT(nn.Module):\n",
    "    def __init__(self, config):\n",
    "        super().__init__()\n",
    "\n",
    "        # (embedding, position, norm, mlp, block)\n",
    "        # position embedding: 0, 1, xxx embedding -> rope\n",
    "        # norm: layer norm -> rms norm\n",
    "        # mlp -> swiglu\n",
    "        # mha -> gqa\n",
    "        self.block_size = config.block_size\n",
    "        self.token_embedding_table = nn.Embedding(config.vocab_size, config.n_embd)\n",
    "        self.position_embedding_table = nn.Embedding(config.block_size, config.n_embd)\n",
    "\n",
    "        self.blocks = nn.Sequential(\n",
    "            *[Block(config) for _ in range(config.n_layer)]\n",
    "        )\n",
    "        self.ln_final = nn.LayerNorm(config.n_embd)\n",
    "\n",
    "        # Softmax -> no bias\n",
    "        self.lm_head = nn.Linear(config.n_embd, config.vocab_size, bias=False)\n",
    "\n",
    "        # SLM model will use tie weight to decrease parameters\n",
    "        # Linear: 4d -> 8d ( 8 x 4 )\n",
    "        self.apply(self._init_weights)\n",
    "\n",
    "\n",
    "    def _init_weights(self, module):\n",
    "        if isinstance(module, nn.Linear):\n",
    "\n",
    "            # normal distribution\n",
    "            torch.nn.init.normal_(module.weight, mean=0.0, std=0.02)\n",
    "\n",
    "            if module.bias is not None:\n",
    "                torch.nn.init.zeros_(module.bias)\n",
    "        elif isinstance(module, nn.Embedding):\n",
    "            torch.nn.init.normal_(module.weight, mean=0.0, std=0.02)\n",
    "\n",
    "    def forward(self, idx, targets=None):\n",
    "        # idx: token ids\n",
    "        # target: target token idx\n",
    "        # Same shape\n",
    "        batch, seq_len = idx.size()\n",
    "\n",
    "        # (batch seq_len, n_embed)\n",
    "        token_emb = self.token_embedding_table(idx)\n",
    "\n",
    "        pos_emb = self.position_embedding_table(\n",
    "            # pos_emb and idx on same device\n",
    "            torch.arange(seq_len, device=idx.device)\n",
    "        )\n",
    "\n",
    "        # ? token_embedding + position+embedding\n",
    "        x = token_emb + pos_emb\n",
    "        x = self.blocks(x)\n",
    "        x = self.ln_final(x)\n",
    "\n",
    "        # Shape: (batch, seq_len, vocab_size)\n",
    "        logits = self.lm_head(x)\n",
    "\n",
    "        if targets is None:\n",
    "            loss = None\n",
    "        else:\n",
    "            batch, seq_len, vocab_size = logits.size()\n",
    "            logits = logits.view(batch * seq_len, vocab_size)\n",
    "            targets = targets.view(batch * seq_len)\n",
    "            loss = F.cross_entropy(logits, targets)\n",
    "        return logits, loss\n",
    "\n",
    "\n",
    "    def generate(self, idx, max_new_tokens):\n",
    "        # idx shape (batch, seq_len)\n",
    "        # idx is (B, T) array of indices in the current context\n",
    "        for _ in range(max_new_tokens):\n",
    "            # 如果序列太长，只取最后 block_size 个token\n",
    "            idx_cond = idx if idx.size(1) <= self.block_size else idx[:, -self.block_size:]\n",
    "            # 获取预测\n",
    "            logits, _ = self(idx_cond)\n",
    "            # 只关注最后一个时间步的预测\n",
    "            logits = logits[:, -1, :]  # becomes (B, vocab_size)\n",
    "            # 应用softmax获取概率\n",
    "            probs = F.softmax(logits, dim=-1)\n",
    "            # 采样下一个token\n",
    "            idx_next = torch.multinomial(probs, num_samples=1)  # (B, 1)\n",
    "            # 附加到序列上\n",
    "            idx = torch.cat((idx, idx_next), dim=1)  # (B, T+1)\n",
    "        return idx"
   ],
   "id": "a694fd46f136d86e",
   "outputs": [],
   "execution_count": 41
  },
  {
   "metadata": {},
   "cell_type": "markdown",
   "source": "# 4. Build Input Dataset",
   "id": "7a2eec584276b754"
  },
  {
   "metadata": {
    "ExecuteTime": {
     "end_time": "2025-04-13T05:36:32.889821Z",
     "start_time": "2025-04-13T05:36:32.886130Z"
    }
   },
   "cell_type": "code",
   "source": [
    "class MyDataset(Dataset):\n",
    "    def __init__(self, path, block_size=512):\n",
    "        import tiktoken\n",
    "        self.enc = tiktoken.get_encoding(\"gpt2\")\n",
    "        self.block_size = block_size  # pos max length\n",
    "\n",
    "        # Special symbol to divide different text\n",
    "        # <|endoftext|> -> 50526\n",
    "        self.eos_token = self.enc.encode(\n",
    "            \"<|endoftext|>\",\n",
    "            allowed_special={\"<|endoftext|>\"}\n",
    "        )[0]\n",
    "\n",
    "        # Encode -> train\n",
    "        import json\n",
    "\n",
    "        self.encoded_data = []\n",
    "        self.max_lines = 1000\n",
    "        raw_data = []\n",
    "        with open(path, 'r') as f:\n",
    "            for i, line in enumerate(f):\n",
    "                if i >= self.max_lines:\n",
    "                    break\n",
    "                try:\n",
    "                    text = json.loads(line.strip())['text']\n",
    "                    raw_data.append(text)\n",
    "                except json.JSONDecodeError:\n",
    "                    continue\n",
    "                except Exception as e:\n",
    "                    continue\n",
    "\n",
    "        full_encoded = []\n",
    "        for text in raw_data:\n",
    "            encoded_text = self.enc.encode(text)\n",
    "            full_encoded.extend(encoded_text + [self.eos_token])\n",
    "\n",
    "        # 将长文本分割成训练样本\n",
    "        for i in range(0, len(full_encoded), self.block_size):\n",
    "            # 多取一个 Token 作为目标\n",
    "            chunk = full_encoded[i:i+self.block_size+1]\n",
    "            # 如果长度不够，用 eos_token 填充\n",
    "            if len(chunk) < self.block_size + 1:\n",
    "                chunk = chunk + [self.eos_token] * (self.block_size + 1 - len(chunk))\n",
    "            self.encoded_data.append(chunk)\n",
    "\n",
    "\n",
    "    def __len__(self):\n",
    "        return len(self.encoded_data)\n",
    "\n",
    "    def __getitem__(self, idx):\n",
    "        chunk = self.encoded_data[idx]\n",
    "        x = torch.tensor(chunk[:-1], dtype=torch.long)\n",
    "        y = torch.tensor(chunk[1:], dtype=torch.long)\n",
    "        return x, y\n",
    "\n",
    "    def encode(self, text):\n",
    "        return self.enc.encode(text)\n",
    "\n",
    "    def decode(self, ids):\n",
    "        return self.enc.decode(ids)"
   ],
   "id": "443ffadb29ab038c",
   "outputs": [],
   "execution_count": 23
  },
  {
   "metadata": {
    "ExecuteTime": {
     "end_time": "2025-04-13T05:36:40.516357Z",
     "start_time": "2025-04-13T05:36:40.348983Z"
    }
   },
   "cell_type": "code",
   "source": [
    "train_dataset = MyDataset('data.jsonl')\n",
    "\n",
    "train_dataset, val_dataset = torch.utils.data.random_split(train_dataset, [0.9, 0.1])\n",
    "\n",
    "train_loader = DataLoader(train_dataset, batch_size=12, shuffle=True)\n",
    "val_loader = DataLoader(val_dataset, batch_size=12, shuffle=False)"
   ],
   "id": "3fee53aa96247ae5",
   "outputs": [],
   "execution_count": 24
  },
  {
   "metadata": {},
   "cell_type": "markdown",
   "source": "# 5. Run Related Functions",
   "id": "4dbcf51a3bfa90c"
  },
  {
   "metadata": {
    "ExecuteTime": {
     "end_time": "2025-04-13T05:36:47.542824Z",
     "start_time": "2025-04-13T05:36:47.540517Z"
    }
   },
   "cell_type": "code",
   "source": [
    "if torch.backends.mps.is_available():\n",
    "    device = torch.device(\"mps\")\n",
    "elif torch.cuda.is_available():\n",
    "    device = torch.device(\"cuda\")\n",
    "else:\n",
    "    device = torch.device(\"cpu\")\n",
    "print(\"Using {} device\".format(device))"
   ],
   "id": "103256f479671587",
   "outputs": [
    {
     "name": "stdout",
     "output_type": "stream",
     "text": [
      "Using mps device\n"
     ]
    }
   ],
   "execution_count": 25
  },
  {
   "metadata": {
    "ExecuteTime": {
     "end_time": "2025-04-13T16:45:35.470239Z",
     "start_time": "2025-04-13T16:45:33.637757Z"
    }
   },
   "cell_type": "code",
   "source": [
    "model = GPT(GPTConfig())\n",
    "model = model.to(device)\n",
    "\n",
    "# Print parameter\n",
    "total_params = sum(p.numel() for p in model.parameters())\n",
    "print(f\"Total parameters: {total_params / 1e6} M\")\n",
    "\n",
    "optimizer = torch.optim.AdamW(model.parameters(), lr=3e-4)\n",
    "\n",
    "# Cos LR\n",
    "scheduler = torch.optim.lr_scheduler.CosineAnnealingLR(optimizer, T_max=1000)"
   ],
   "id": "df65925cafd2f55d",
   "outputs": [
    {
     "name": "stdout",
     "output_type": "stream",
     "text": [
      "Total parameters: 162.643968 M\n"
     ]
    }
   ],
   "execution_count": 29
  },
  {
   "metadata": {},
   "cell_type": "markdown",
   "source": "### Training Function",
   "id": "3d4ab5a2e5e863e9"
  },
  {
   "metadata": {
    "ExecuteTime": {
     "end_time": "2025-04-13T16:45:50.183719Z",
     "start_time": "2025-04-13T16:45:50.181201Z"
    }
   },
   "cell_type": "code",
   "source": [
    "import os\n",
    "\n",
    "# 确保 checkpoints 目录存在\n",
    "os.makedirs('checkpoints', exist_ok=True)"
   ],
   "id": "ec97831b26f4f19e",
   "outputs": [],
   "execution_count": 30
  },
  {
   "metadata": {
    "jupyter": {
     "is_executing": true
    },
    "ExecuteTime": {
     "start_time": "2025-04-13T17:37:53.591080Z"
    }
   },
   "cell_type": "code",
   "source": [
    "# 训练循环\n",
    "def train(model, optimizer, scheduler, train_loader, val_loader, device):\n",
    "    model.train()\n",
    "    total_loss = 0\n",
    "    for batch_idx, (x, y) in enumerate(train_loader):\n",
    "        # 将数据移到设备上\n",
    "        x, y = x.to(device), y.to(device)\n",
    "\n",
    "        # 前向传播\n",
    "        logits, loss = model(x, targets=y)\n",
    "\n",
    "        # 反向传播\n",
    "        optimizer.zero_grad()\n",
    "        loss.backward()\n",
    "        optimizer.step()\n",
    "        # 调整学习率\n",
    "        scheduler.step()\n",
    "\n",
    "        total_loss += loss.item()\n",
    "\n",
    "        if batch_idx % 100 == 0:\n",
    "            print(f'Epoch: {epoch}, Batch: {batch_idx}, Loss: {loss.item():.4f}')\n",
    "    return total_loss\n",
    "\n",
    "def eval(model, val_loader, device):\n",
    "    # 验证\n",
    "    model.eval()\n",
    "    val_loss = 0\n",
    "    with torch.no_grad():\n",
    "        for x, y in val_loader:\n",
    "            x, y = x.to(device), y.to(device)\n",
    "            logits, loss = model(x, targets=y)\n",
    "            val_loss += loss.item()\n",
    "    return val_loss\n",
    "\n",
    "\n",
    "for epoch in range(100):\n",
    "    train_loss = train(model, optimizer, scheduler, train_loader, val_loader, device)\n",
    "    val_loss = eval(model, val_loader, device)\n",
    "    print(f'Epoch: {epoch}, Train Loss: {train_loss/len(train_loader):.4f}, Val Loss: {val_loss/len(val_loader):.4f}')\n",
    "\n",
    "    # 保存模型\n",
    "    avg_val_loss = val_loss / len(val_loader)\n",
    "    checkpoint = {\n",
    "        'epoch': epoch,\n",
    "        'model_state_dict': model.state_dict(),\n",
    "        'optimizer_state_dict': optimizer.state_dict(),\n",
    "        'scheduler_state_dict': scheduler.state_dict(),\n",
    "        'val_loss': avg_val_loss,\n",
    "    }\n",
    "    # 保存每个epoch的模型\n",
    "    os.makedirs('checkpoints', exist_ok=True)\n",
    "    torch.save(checkpoint, f'checkpoints/model_epoch_{epoch}.pt')\n"
   ],
   "id": "6691ab71a455c6ab",
   "outputs": [
    {
     "name": "stdout",
     "output_type": "stream",
     "text": [
      "Epoch: 0, Batch: 0, Loss: 3.1839\n"
     ]
    }
   ],
   "execution_count": null
  },
  {
   "metadata": {},
   "cell_type": "markdown",
   "source": "# 6. Run model",
   "id": "c93e79af1b8e9821"
  },
  {
   "metadata": {
    "ExecuteTime": {
     "end_time": "2025-04-13T17:31:24.104885Z",
     "start_time": "2025-04-13T17:31:24.103167Z"
    }
   },
   "cell_type": "code",
   "source": [
    "checkpoint_path = \"checkpoints/model_epoch_0.pt\"\n",
    "if not os.path.exists(checkpoint_path):\n",
    "    raise FileNotFoundError(f\"Checkpoint {checkpoint_path} not found\")"
   ],
   "id": "f311e7f063ebb9e8",
   "outputs": [],
   "execution_count": 43
  },
  {
   "metadata": {
    "ExecuteTime": {
     "end_time": "2025-04-13T17:31:24.111018Z",
     "start_time": "2025-04-13T17:31:24.109328Z"
    }
   },
   "cell_type": "code",
   "source": [
    "device = torch.device(\"mps\" if torch.backends.mps.is_available() else \"cuda\" if torch.cuda.is_available() else \"cpu\")\n",
    "print(f\"Using {device} device\")"
   ],
   "id": "9962a5b284f521ac",
   "outputs": [
    {
     "name": "stdout",
     "output_type": "stream",
     "text": [
      "Using mps device\n"
     ]
    }
   ],
   "execution_count": 44
  },
  {
   "metadata": {
    "ExecuteTime": {
     "end_time": "2025-04-13T17:31:42.286107Z",
     "start_time": "2025-04-13T17:31:38.401854Z"
    }
   },
   "cell_type": "code",
   "source": [
    "model = GPT(GPTConfig()).to(device)\n",
    "checkpoint_path = \"checkpoints/model_epoch_1.pt\"\n",
    "checkpoint = torch.load(checkpoint_path, map_location=device)\n",
    "model.load_state_dict(checkpoint['model_state_dict'])\n",
    "model.eval()"
   ],
   "id": "c1d0412c915ca9fd",
   "outputs": [
    {
     "data": {
      "text/plain": [
       "GPT(\n",
       "  (token_embedding_table): Embedding(50257, 768)\n",
       "  (position_embedding_table): Embedding(512, 768)\n",
       "  (blocks): Sequential(\n",
       "    (0): Block(\n",
       "      (att): MultiHeadAttention(\n",
       "        (heads): ModuleList(\n",
       "          (0-11): 12 x SingleHeadAttention(\n",
       "            (key): Linear(in_features=768, out_features=64, bias=True)\n",
       "            (value): Linear(in_features=768, out_features=64, bias=True)\n",
       "            (query): Linear(in_features=768, out_features=64, bias=True)\n",
       "            (dropout): Dropout(p=0.1, inplace=False)\n",
       "          )\n",
       "        )\n",
       "        (proj): Linear(in_features=768, out_features=768, bias=True)\n",
       "        (dropout): Dropout(p=0.1, inplace=False)\n",
       "      )\n",
       "      (ffn): FeedForward(\n",
       "        (net): Sequential(\n",
       "          (0): Linear(in_features=768, out_features=3072, bias=True)\n",
       "          (1): GELU(approximate='none')\n",
       "          (2): Linear(in_features=3072, out_features=768, bias=True)\n",
       "          (3): Dropout(p=0.1, inplace=False)\n",
       "        )\n",
       "      )\n",
       "      (ln1): LayerNorm((768,), eps=1e-05, elementwise_affine=True)\n",
       "      (ln2): LayerNorm((768,), eps=1e-05, elementwise_affine=True)\n",
       "    )\n",
       "    (1): Block(\n",
       "      (att): MultiHeadAttention(\n",
       "        (heads): ModuleList(\n",
       "          (0-11): 12 x SingleHeadAttention(\n",
       "            (key): Linear(in_features=768, out_features=64, bias=True)\n",
       "            (value): Linear(in_features=768, out_features=64, bias=True)\n",
       "            (query): Linear(in_features=768, out_features=64, bias=True)\n",
       "            (dropout): Dropout(p=0.1, inplace=False)\n",
       "          )\n",
       "        )\n",
       "        (proj): Linear(in_features=768, out_features=768, bias=True)\n",
       "        (dropout): Dropout(p=0.1, inplace=False)\n",
       "      )\n",
       "      (ffn): FeedForward(\n",
       "        (net): Sequential(\n",
       "          (0): Linear(in_features=768, out_features=3072, bias=True)\n",
       "          (1): GELU(approximate='none')\n",
       "          (2): Linear(in_features=3072, out_features=768, bias=True)\n",
       "          (3): Dropout(p=0.1, inplace=False)\n",
       "        )\n",
       "      )\n",
       "      (ln1): LayerNorm((768,), eps=1e-05, elementwise_affine=True)\n",
       "      (ln2): LayerNorm((768,), eps=1e-05, elementwise_affine=True)\n",
       "    )\n",
       "    (2): Block(\n",
       "      (att): MultiHeadAttention(\n",
       "        (heads): ModuleList(\n",
       "          (0-11): 12 x SingleHeadAttention(\n",
       "            (key): Linear(in_features=768, out_features=64, bias=True)\n",
       "            (value): Linear(in_features=768, out_features=64, bias=True)\n",
       "            (query): Linear(in_features=768, out_features=64, bias=True)\n",
       "            (dropout): Dropout(p=0.1, inplace=False)\n",
       "          )\n",
       "        )\n",
       "        (proj): Linear(in_features=768, out_features=768, bias=True)\n",
       "        (dropout): Dropout(p=0.1, inplace=False)\n",
       "      )\n",
       "      (ffn): FeedForward(\n",
       "        (net): Sequential(\n",
       "          (0): Linear(in_features=768, out_features=3072, bias=True)\n",
       "          (1): GELU(approximate='none')\n",
       "          (2): Linear(in_features=3072, out_features=768, bias=True)\n",
       "          (3): Dropout(p=0.1, inplace=False)\n",
       "        )\n",
       "      )\n",
       "      (ln1): LayerNorm((768,), eps=1e-05, elementwise_affine=True)\n",
       "      (ln2): LayerNorm((768,), eps=1e-05, elementwise_affine=True)\n",
       "    )\n",
       "    (3): Block(\n",
       "      (att): MultiHeadAttention(\n",
       "        (heads): ModuleList(\n",
       "          (0-11): 12 x SingleHeadAttention(\n",
       "            (key): Linear(in_features=768, out_features=64, bias=True)\n",
       "            (value): Linear(in_features=768, out_features=64, bias=True)\n",
       "            (query): Linear(in_features=768, out_features=64, bias=True)\n",
       "            (dropout): Dropout(p=0.1, inplace=False)\n",
       "          )\n",
       "        )\n",
       "        (proj): Linear(in_features=768, out_features=768, bias=True)\n",
       "        (dropout): Dropout(p=0.1, inplace=False)\n",
       "      )\n",
       "      (ffn): FeedForward(\n",
       "        (net): Sequential(\n",
       "          (0): Linear(in_features=768, out_features=3072, bias=True)\n",
       "          (1): GELU(approximate='none')\n",
       "          (2): Linear(in_features=3072, out_features=768, bias=True)\n",
       "          (3): Dropout(p=0.1, inplace=False)\n",
       "        )\n",
       "      )\n",
       "      (ln1): LayerNorm((768,), eps=1e-05, elementwise_affine=True)\n",
       "      (ln2): LayerNorm((768,), eps=1e-05, elementwise_affine=True)\n",
       "    )\n",
       "    (4): Block(\n",
       "      (att): MultiHeadAttention(\n",
       "        (heads): ModuleList(\n",
       "          (0-11): 12 x SingleHeadAttention(\n",
       "            (key): Linear(in_features=768, out_features=64, bias=True)\n",
       "            (value): Linear(in_features=768, out_features=64, bias=True)\n",
       "            (query): Linear(in_features=768, out_features=64, bias=True)\n",
       "            (dropout): Dropout(p=0.1, inplace=False)\n",
       "          )\n",
       "        )\n",
       "        (proj): Linear(in_features=768, out_features=768, bias=True)\n",
       "        (dropout): Dropout(p=0.1, inplace=False)\n",
       "      )\n",
       "      (ffn): FeedForward(\n",
       "        (net): Sequential(\n",
       "          (0): Linear(in_features=768, out_features=3072, bias=True)\n",
       "          (1): GELU(approximate='none')\n",
       "          (2): Linear(in_features=3072, out_features=768, bias=True)\n",
       "          (3): Dropout(p=0.1, inplace=False)\n",
       "        )\n",
       "      )\n",
       "      (ln1): LayerNorm((768,), eps=1e-05, elementwise_affine=True)\n",
       "      (ln2): LayerNorm((768,), eps=1e-05, elementwise_affine=True)\n",
       "    )\n",
       "    (5): Block(\n",
       "      (att): MultiHeadAttention(\n",
       "        (heads): ModuleList(\n",
       "          (0-11): 12 x SingleHeadAttention(\n",
       "            (key): Linear(in_features=768, out_features=64, bias=True)\n",
       "            (value): Linear(in_features=768, out_features=64, bias=True)\n",
       "            (query): Linear(in_features=768, out_features=64, bias=True)\n",
       "            (dropout): Dropout(p=0.1, inplace=False)\n",
       "          )\n",
       "        )\n",
       "        (proj): Linear(in_features=768, out_features=768, bias=True)\n",
       "        (dropout): Dropout(p=0.1, inplace=False)\n",
       "      )\n",
       "      (ffn): FeedForward(\n",
       "        (net): Sequential(\n",
       "          (0): Linear(in_features=768, out_features=3072, bias=True)\n",
       "          (1): GELU(approximate='none')\n",
       "          (2): Linear(in_features=3072, out_features=768, bias=True)\n",
       "          (3): Dropout(p=0.1, inplace=False)\n",
       "        )\n",
       "      )\n",
       "      (ln1): LayerNorm((768,), eps=1e-05, elementwise_affine=True)\n",
       "      (ln2): LayerNorm((768,), eps=1e-05, elementwise_affine=True)\n",
       "    )\n",
       "    (6): Block(\n",
       "      (att): MultiHeadAttention(\n",
       "        (heads): ModuleList(\n",
       "          (0-11): 12 x SingleHeadAttention(\n",
       "            (key): Linear(in_features=768, out_features=64, bias=True)\n",
       "            (value): Linear(in_features=768, out_features=64, bias=True)\n",
       "            (query): Linear(in_features=768, out_features=64, bias=True)\n",
       "            (dropout): Dropout(p=0.1, inplace=False)\n",
       "          )\n",
       "        )\n",
       "        (proj): Linear(in_features=768, out_features=768, bias=True)\n",
       "        (dropout): Dropout(p=0.1, inplace=False)\n",
       "      )\n",
       "      (ffn): FeedForward(\n",
       "        (net): Sequential(\n",
       "          (0): Linear(in_features=768, out_features=3072, bias=True)\n",
       "          (1): GELU(approximate='none')\n",
       "          (2): Linear(in_features=3072, out_features=768, bias=True)\n",
       "          (3): Dropout(p=0.1, inplace=False)\n",
       "        )\n",
       "      )\n",
       "      (ln1): LayerNorm((768,), eps=1e-05, elementwise_affine=True)\n",
       "      (ln2): LayerNorm((768,), eps=1e-05, elementwise_affine=True)\n",
       "    )\n",
       "    (7): Block(\n",
       "      (att): MultiHeadAttention(\n",
       "        (heads): ModuleList(\n",
       "          (0-11): 12 x SingleHeadAttention(\n",
       "            (key): Linear(in_features=768, out_features=64, bias=True)\n",
       "            (value): Linear(in_features=768, out_features=64, bias=True)\n",
       "            (query): Linear(in_features=768, out_features=64, bias=True)\n",
       "            (dropout): Dropout(p=0.1, inplace=False)\n",
       "          )\n",
       "        )\n",
       "        (proj): Linear(in_features=768, out_features=768, bias=True)\n",
       "        (dropout): Dropout(p=0.1, inplace=False)\n",
       "      )\n",
       "      (ffn): FeedForward(\n",
       "        (net): Sequential(\n",
       "          (0): Linear(in_features=768, out_features=3072, bias=True)\n",
       "          (1): GELU(approximate='none')\n",
       "          (2): Linear(in_features=3072, out_features=768, bias=True)\n",
       "          (3): Dropout(p=0.1, inplace=False)\n",
       "        )\n",
       "      )\n",
       "      (ln1): LayerNorm((768,), eps=1e-05, elementwise_affine=True)\n",
       "      (ln2): LayerNorm((768,), eps=1e-05, elementwise_affine=True)\n",
       "    )\n",
       "    (8): Block(\n",
       "      (att): MultiHeadAttention(\n",
       "        (heads): ModuleList(\n",
       "          (0-11): 12 x SingleHeadAttention(\n",
       "            (key): Linear(in_features=768, out_features=64, bias=True)\n",
       "            (value): Linear(in_features=768, out_features=64, bias=True)\n",
       "            (query): Linear(in_features=768, out_features=64, bias=True)\n",
       "            (dropout): Dropout(p=0.1, inplace=False)\n",
       "          )\n",
       "        )\n",
       "        (proj): Linear(in_features=768, out_features=768, bias=True)\n",
       "        (dropout): Dropout(p=0.1, inplace=False)\n",
       "      )\n",
       "      (ffn): FeedForward(\n",
       "        (net): Sequential(\n",
       "          (0): Linear(in_features=768, out_features=3072, bias=True)\n",
       "          (1): GELU(approximate='none')\n",
       "          (2): Linear(in_features=3072, out_features=768, bias=True)\n",
       "          (3): Dropout(p=0.1, inplace=False)\n",
       "        )\n",
       "      )\n",
       "      (ln1): LayerNorm((768,), eps=1e-05, elementwise_affine=True)\n",
       "      (ln2): LayerNorm((768,), eps=1e-05, elementwise_affine=True)\n",
       "    )\n",
       "    (9): Block(\n",
       "      (att): MultiHeadAttention(\n",
       "        (heads): ModuleList(\n",
       "          (0-11): 12 x SingleHeadAttention(\n",
       "            (key): Linear(in_features=768, out_features=64, bias=True)\n",
       "            (value): Linear(in_features=768, out_features=64, bias=True)\n",
       "            (query): Linear(in_features=768, out_features=64, bias=True)\n",
       "            (dropout): Dropout(p=0.1, inplace=False)\n",
       "          )\n",
       "        )\n",
       "        (proj): Linear(in_features=768, out_features=768, bias=True)\n",
       "        (dropout): Dropout(p=0.1, inplace=False)\n",
       "      )\n",
       "      (ffn): FeedForward(\n",
       "        (net): Sequential(\n",
       "          (0): Linear(in_features=768, out_features=3072, bias=True)\n",
       "          (1): GELU(approximate='none')\n",
       "          (2): Linear(in_features=3072, out_features=768, bias=True)\n",
       "          (3): Dropout(p=0.1, inplace=False)\n",
       "        )\n",
       "      )\n",
       "      (ln1): LayerNorm((768,), eps=1e-05, elementwise_affine=True)\n",
       "      (ln2): LayerNorm((768,), eps=1e-05, elementwise_affine=True)\n",
       "    )\n",
       "    (10): Block(\n",
       "      (att): MultiHeadAttention(\n",
       "        (heads): ModuleList(\n",
       "          (0-11): 12 x SingleHeadAttention(\n",
       "            (key): Linear(in_features=768, out_features=64, bias=True)\n",
       "            (value): Linear(in_features=768, out_features=64, bias=True)\n",
       "            (query): Linear(in_features=768, out_features=64, bias=True)\n",
       "            (dropout): Dropout(p=0.1, inplace=False)\n",
       "          )\n",
       "        )\n",
       "        (proj): Linear(in_features=768, out_features=768, bias=True)\n",
       "        (dropout): Dropout(p=0.1, inplace=False)\n",
       "      )\n",
       "      (ffn): FeedForward(\n",
       "        (net): Sequential(\n",
       "          (0): Linear(in_features=768, out_features=3072, bias=True)\n",
       "          (1): GELU(approximate='none')\n",
       "          (2): Linear(in_features=3072, out_features=768, bias=True)\n",
       "          (3): Dropout(p=0.1, inplace=False)\n",
       "        )\n",
       "      )\n",
       "      (ln1): LayerNorm((768,), eps=1e-05, elementwise_affine=True)\n",
       "      (ln2): LayerNorm((768,), eps=1e-05, elementwise_affine=True)\n",
       "    )\n",
       "    (11): Block(\n",
       "      (att): MultiHeadAttention(\n",
       "        (heads): ModuleList(\n",
       "          (0-11): 12 x SingleHeadAttention(\n",
       "            (key): Linear(in_features=768, out_features=64, bias=True)\n",
       "            (value): Linear(in_features=768, out_features=64, bias=True)\n",
       "            (query): Linear(in_features=768, out_features=64, bias=True)\n",
       "            (dropout): Dropout(p=0.1, inplace=False)\n",
       "          )\n",
       "        )\n",
       "        (proj): Linear(in_features=768, out_features=768, bias=True)\n",
       "        (dropout): Dropout(p=0.1, inplace=False)\n",
       "      )\n",
       "      (ffn): FeedForward(\n",
       "        (net): Sequential(\n",
       "          (0): Linear(in_features=768, out_features=3072, bias=True)\n",
       "          (1): GELU(approximate='none')\n",
       "          (2): Linear(in_features=3072, out_features=768, bias=True)\n",
       "          (3): Dropout(p=0.1, inplace=False)\n",
       "        )\n",
       "      )\n",
       "      (ln1): LayerNorm((768,), eps=1e-05, elementwise_affine=True)\n",
       "      (ln2): LayerNorm((768,), eps=1e-05, elementwise_affine=True)\n",
       "    )\n",
       "  )\n",
       "  (ln_final): LayerNorm((768,), eps=1e-05, elementwise_affine=True)\n",
       "  (lm_head): Linear(in_features=768, out_features=50257, bias=False)\n",
       ")"
      ]
     },
     "execution_count": 45,
     "metadata": {},
     "output_type": "execute_result"
    }
   ],
   "execution_count": 45
  },
  {
   "metadata": {
    "ExecuteTime": {
     "end_time": "2025-04-13T17:31:56.385362Z",
     "start_time": "2025-04-13T17:31:56.209821Z"
    }
   },
   "cell_type": "code",
   "source": "dataset = MyDataset('data.jsonl')",
   "id": "3b836edf5b2a04bc",
   "outputs": [],
   "execution_count": 46
  },
  {
   "metadata": {
    "ExecuteTime": {
     "end_time": "2025-04-13T17:34:02.256226Z",
     "start_time": "2025-04-13T17:33:59.188793Z"
    }
   },
   "cell_type": "code",
   "source": [
    "prompt = \"你\"\n",
    "encoded_prompt = dataset.encode(prompt)\n",
    "input_ids = torch.tensor([encoded_prompt], dtype=torch.long).to(device)\n",
    "generated_ids = model.generate(input_ids, max_new_tokens=50)\n",
    "generated_text = dataset.decode(generated_ids[0].cpu().numpy())\n",
    "print(\"Generated text:\\n\", generated_text)"
   ],
   "id": "cd77558d81ba494b",
   "outputs": [
    {
     "name": "stdout",
     "output_type": "stream",
     "text": [
      "Generated text:\n",
      " 你灶增枷压用向绿跡的。其试的激大者�各，在制欢罗\n"
     ]
    }
   ],
   "execution_count": 49
  },
  {
   "metadata": {},
   "cell_type": "code",
   "outputs": [],
   "execution_count": null,
   "source": "",
   "id": "75307e86a38f4a79"
  }
 ],
 "metadata": {
  "kernelspec": {
   "display_name": "Python 3 (ipykernel)",
   "language": "python",
   "name": "python3"
  },
  "language_info": {
   "codemirror_mode": {
    "name": "ipython",
    "version": 3
   },
   "file_extension": ".py",
   "mimetype": "text/x-python",
   "name": "python",
   "nbconvert_exporter": "python",
   "pygments_lexer": "ipython3",
   "version": "3.12.9"
  }
 },
 "nbformat": 4,
 "nbformat_minor": 5
}
